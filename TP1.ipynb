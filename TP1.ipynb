{
 "cells": [
  {
   "cell_type": "code",
   "execution_count": 2,
   "id": "df3b3adb",
   "metadata": {},
   "outputs": [
    {
     "name": "stdout",
     "output_type": "stream",
     "text": [
      "[[5.1 3.5 1.4 0.2]\n",
      " [4.9 3.  1.4 0.2]\n",
      " [4.7 3.2 1.3 0.2]\n",
      " [4.6 3.1 1.5 0.2]\n",
      " [5.  3.6 1.4 0.2]\n",
      " [5.4 3.9 1.7 0.4]\n",
      " [4.6 3.4 1.4 0.3]\n",
      " [5.  3.4 1.5 0.2]\n",
      " [4.4 2.9 1.4 0.2]\n",
      " [4.9 3.1 1.5 0.1]\n",
      " [5.4 3.7 1.5 0.2]\n",
      " [4.8 3.4 1.6 0.2]\n",
      " [4.8 3.  1.4 0.1]\n",
      " [4.3 3.  1.1 0.1]\n",
      " [5.8 4.  1.2 0.2]\n",
      " [5.7 4.4 1.5 0.4]\n",
      " [5.4 3.9 1.3 0.4]\n",
      " [5.1 3.5 1.4 0.3]\n",
      " [5.7 3.8 1.7 0.3]\n",
      " [5.1 3.8 1.5 0.3]\n",
      " [5.4 3.4 1.7 0.2]\n",
      " [5.1 3.7 1.5 0.4]\n",
      " [4.6 3.6 1.  0.2]\n",
      " [5.1 3.3 1.7 0.5]\n",
      " [4.8 3.4 1.9 0.2]\n",
      " [5.  3.  1.6 0.2]\n",
      " [5.  3.4 1.6 0.4]\n",
      " [5.2 3.5 1.5 0.2]\n",
      " [5.2 3.4 1.4 0.2]\n",
      " [4.7 3.2 1.6 0.2]\n",
      " [4.8 3.1 1.6 0.2]\n",
      " [5.4 3.4 1.5 0.4]\n",
      " [5.2 4.1 1.5 0.1]\n",
      " [5.5 4.2 1.4 0.2]\n",
      " [4.9 3.1 1.5 0.2]\n",
      " [5.  3.2 1.2 0.2]\n",
      " [5.5 3.5 1.3 0.2]\n",
      " [4.9 3.6 1.4 0.1]\n",
      " [4.4 3.  1.3 0.2]\n",
      " [5.1 3.4 1.5 0.2]\n",
      " [5.  3.5 1.3 0.3]\n",
      " [4.5 2.3 1.3 0.3]\n",
      " [4.4 3.2 1.3 0.2]\n",
      " [5.  3.5 1.6 0.6]\n",
      " [5.1 3.8 1.9 0.4]\n",
      " [4.8 3.  1.4 0.3]\n",
      " [5.1 3.8 1.6 0.2]\n",
      " [4.6 3.2 1.4 0.2]\n",
      " [5.3 3.7 1.5 0.2]\n",
      " [5.  3.3 1.4 0.2]\n",
      " [7.  3.2 4.7 1.4]\n",
      " [6.4 3.2 4.5 1.5]\n",
      " [6.9 3.1 4.9 1.5]\n",
      " [5.5 2.3 4.  1.3]\n",
      " [6.5 2.8 4.6 1.5]\n",
      " [5.7 2.8 4.5 1.3]\n",
      " [6.3 3.3 4.7 1.6]\n",
      " [4.9 2.4 3.3 1. ]\n",
      " [6.6 2.9 4.6 1.3]\n",
      " [5.2 2.7 3.9 1.4]\n",
      " [5.  2.  3.5 1. ]\n",
      " [5.9 3.  4.2 1.5]\n",
      " [6.  2.2 4.  1. ]\n",
      " [6.1 2.9 4.7 1.4]\n",
      " [5.6 2.9 3.6 1.3]\n",
      " [6.7 3.1 4.4 1.4]\n",
      " [5.6 3.  4.5 1.5]\n",
      " [5.8 2.7 4.1 1. ]\n",
      " [6.2 2.2 4.5 1.5]\n",
      " [5.6 2.5 3.9 1.1]\n",
      " [5.9 3.2 4.8 1.8]\n",
      " [6.1 2.8 4.  1.3]\n",
      " [6.3 2.5 4.9 1.5]\n",
      " [6.1 2.8 4.7 1.2]\n",
      " [6.4 2.9 4.3 1.3]\n",
      " [6.6 3.  4.4 1.4]\n",
      " [6.8 2.8 4.8 1.4]\n",
      " [6.7 3.  5.  1.7]\n",
      " [6.  2.9 4.5 1.5]\n",
      " [5.7 2.6 3.5 1. ]\n",
      " [5.5 2.4 3.8 1.1]\n",
      " [5.5 2.4 3.7 1. ]\n",
      " [5.8 2.7 3.9 1.2]\n",
      " [6.  2.7 5.1 1.6]\n",
      " [5.4 3.  4.5 1.5]\n",
      " [6.  3.4 4.5 1.6]\n",
      " [6.7 3.1 4.7 1.5]\n",
      " [6.3 2.3 4.4 1.3]\n",
      " [5.6 3.  4.1 1.3]\n",
      " [5.5 2.5 4.  1.3]\n",
      " [5.5 2.6 4.4 1.2]\n",
      " [6.1 3.  4.6 1.4]\n",
      " [5.8 2.6 4.  1.2]\n",
      " [5.  2.3 3.3 1. ]\n",
      " [5.6 2.7 4.2 1.3]\n",
      " [5.7 3.  4.2 1.2]\n",
      " [5.7 2.9 4.2 1.3]\n",
      " [6.2 2.9 4.3 1.3]\n",
      " [5.1 2.5 3.  1.1]\n",
      " [5.7 2.8 4.1 1.3]\n",
      " [6.3 3.3 6.  2.5]\n",
      " [5.8 2.7 5.1 1.9]\n",
      " [7.1 3.  5.9 2.1]\n",
      " [6.3 2.9 5.6 1.8]\n",
      " [6.5 3.  5.8 2.2]\n",
      " [7.6 3.  6.6 2.1]\n",
      " [4.9 2.5 4.5 1.7]\n",
      " [7.3 2.9 6.3 1.8]\n",
      " [6.7 2.5 5.8 1.8]\n",
      " [7.2 3.6 6.1 2.5]\n",
      " [6.5 3.2 5.1 2. ]\n",
      " [6.4 2.7 5.3 1.9]\n",
      " [6.8 3.  5.5 2.1]\n",
      " [5.7 2.5 5.  2. ]\n",
      " [5.8 2.8 5.1 2.4]\n",
      " [6.4 3.2 5.3 2.3]\n",
      " [6.5 3.  5.5 1.8]\n",
      " [7.7 3.8 6.7 2.2]\n",
      " [7.7 2.6 6.9 2.3]\n",
      " [6.  2.2 5.  1.5]\n",
      " [6.9 3.2 5.7 2.3]\n",
      " [5.6 2.8 4.9 2. ]\n",
      " [7.7 2.8 6.7 2. ]\n",
      " [6.3 2.7 4.9 1.8]\n",
      " [6.7 3.3 5.7 2.1]\n",
      " [7.2 3.2 6.  1.8]\n",
      " [6.2 2.8 4.8 1.8]\n",
      " [6.1 3.  4.9 1.8]\n",
      " [6.4 2.8 5.6 2.1]\n",
      " [7.2 3.  5.8 1.6]\n",
      " [7.4 2.8 6.1 1.9]\n",
      " [7.9 3.8 6.4 2. ]\n",
      " [6.4 2.8 5.6 2.2]\n",
      " [6.3 2.8 5.1 1.5]\n",
      " [6.1 2.6 5.6 1.4]\n",
      " [7.7 3.  6.1 2.3]\n",
      " [6.3 3.4 5.6 2.4]\n",
      " [6.4 3.1 5.5 1.8]\n",
      " [6.  3.  4.8 1.8]\n",
      " [6.9 3.1 5.4 2.1]\n",
      " [6.7 3.1 5.6 2.4]\n",
      " [6.9 3.1 5.1 2.3]\n",
      " [5.8 2.7 5.1 1.9]\n",
      " [6.8 3.2 5.9 2.3]\n",
      " [6.7 3.3 5.7 2.5]\n",
      " [6.7 3.  5.2 2.3]\n",
      " [6.3 2.5 5.  1.9]\n",
      " [6.5 3.  5.2 2. ]\n",
      " [6.2 3.4 5.4 2.3]\n",
      " [5.9 3.  5.1 1.8]]\n",
      "[0 0 0 0 0 0 0 0 0 0 0 0 0 0 0 0 0 0 0 0 0 0 0 0 0 0 0 0 0 0 0 0 0 0 0 0 0\n",
      " 0 0 0 0 0 0 0 0 0 0 0 0 0 1 1 1 1 1 1 1 1 1 1 1 1 1 1 1 1 1 1 1 1 1 1 1 1\n",
      " 1 1 1 1 1 1 1 1 1 1 1 1 1 1 1 1 1 1 1 1 1 1 1 1 1 1 2 2 2 2 2 2 2 2 2 2 2\n",
      " 2 2 2 2 2 2 2 2 2 2 2 2 2 2 2 2 2 2 2 2 2 2 2 2 2 2 2 2 2 2 2 2 2 2 2 2 2\n",
      " 2 2]\n",
      "['setosa' 'versicolor' 'virginica']\n",
      "['sepal length (cm)', 'sepal width (cm)', 'petal length (cm)', 'petal width (cm)']\n",
      ".. _iris_dataset:\n",
      "\n",
      "Iris plants dataset\n",
      "--------------------\n",
      "\n",
      "**Data Set Characteristics:**\n",
      "\n",
      "    :Number of Instances: 150 (50 in each of three classes)\n",
      "    :Number of Attributes: 4 numeric, predictive attributes and the class\n",
      "    :Attribute Information:\n",
      "        - sepal length in cm\n",
      "        - sepal width in cm\n",
      "        - petal length in cm\n",
      "        - petal width in cm\n",
      "        - class:\n",
      "                - Iris-Setosa\n",
      "                - Iris-Versicolour\n",
      "                - Iris-Virginica\n",
      "                \n",
      "    :Summary Statistics:\n",
      "\n",
      "    ============== ==== ==== ======= ===== ====================\n",
      "                    Min  Max   Mean    SD   Class Correlation\n",
      "    ============== ==== ==== ======= ===== ====================\n",
      "    sepal length:   4.3  7.9   5.84   0.83    0.7826\n",
      "    sepal width:    2.0  4.4   3.05   0.43   -0.4194\n",
      "    petal length:   1.0  6.9   3.76   1.76    0.9490  (high!)\n",
      "    petal width:    0.1  2.5   1.20   0.76    0.9565  (high!)\n",
      "    ============== ==== ==== ======= ===== ====================\n",
      "\n",
      "    :Missing Attribute Values: None\n",
      "    :Class Distribution: 33.3% for each of 3 classes.\n",
      "    :Creator: R.A. Fisher\n",
      "    :Donor: Michael Marshall (MARSHALL%PLU@io.arc.nasa.gov)\n",
      "    :Date: July, 1988\n",
      "\n",
      "The famous Iris database, first used by Sir R.A. Fisher. The dataset is taken\n",
      "from Fisher's paper. Note that it's the same as in R, but not as in the UCI\n",
      "Machine Learning Repository, which has two wrong data points.\n",
      "\n",
      "This is perhaps the best known database to be found in the\n",
      "pattern recognition literature.  Fisher's paper is a classic in the field and\n",
      "is referenced frequently to this day.  (See Duda & Hart, for example.)  The\n",
      "data set contains 3 classes of 50 instances each, where each class refers to a\n",
      "type of iris plant.  One class is linearly separable from the other 2; the\n",
      "latter are NOT linearly separable from each other.\n",
      "\n",
      ".. topic:: References\n",
      "\n",
      "   - Fisher, R.A. \"The use of multiple measurements in taxonomic problems\"\n",
      "     Annual Eugenics, 7, Part II, 179-188 (1936); also in \"Contributions to\n",
      "     Mathematical Statistics\" (John Wiley, NY, 1950).\n",
      "   - Duda, R.O., & Hart, P.E. (1973) Pattern Classification and Scene Analysis.\n",
      "     (Q327.D83) John Wiley & Sons.  ISBN 0-471-22361-1.  See page 218.\n",
      "   - Dasarathy, B.V. (1980) \"Nosing Around the Neighborhood: A New System\n",
      "     Structure and Classification Rule for Recognition in Partially Exposed\n",
      "     Environments\".  IEEE Transactions on Pattern Analysis and Machine\n",
      "     Intelligence, Vol. PAMI-2, No. 1, 67-71.\n",
      "   - Gates, G.W. (1972) \"The Reduced Nearest Neighbor Rule\".  IEEE Transactions\n",
      "     on Information Theory, May 1972, 431-433.\n",
      "   - See also: 1988 MLC Proceedings, 54-64.  Cheeseman et al\"s AUTOCLASS II\n",
      "     conceptual clustering system finds 3 classes in the data.\n",
      "   - Many, many more ...\n"
     ]
    }
   ],
   "source": [
    "from sklearn.datasets import load_iris\n",
    "irisData = load_iris()\n",
    "\n",
    "print(irisData.data)\n",
    "print(irisData.target)\n",
    "print(irisData.target_names)\n",
    "print(irisData.feature_names)\n",
    "print(irisData.DESCR)\n"
   ]
  },
  {
   "cell_type": "code",
   "execution_count": 7,
   "id": "aff9a823",
   "metadata": {},
   "outputs": [
    {
     "data": {
      "image/png": "[encoded data removed]",
      "text/plain": [
       "<Figure size 432x288 with 1 Axes>"
      ]
     },
     "metadata": {
      "needs_background": "light"
     },
     "output_type": "display_data"
    },
    {
     "data": {
      "image/png": "[encoded data removed]",
      "text/plain": [
       "<Figure size 432x288 with 1 Axes>"
      ]
     },
     "metadata": {
      "needs_background": "light"
     },
     "output_type": "display_data"
    }
   ],
   "source": [
    "import pylab as pl\n",
    "X = irisData.data\n",
    "Y = irisData.target\n",
    "\n",
    "x = 0\n",
    "y = 1\n",
    "\n",
    "pl.scatter(X[:, x], X[:, y], c = Y)\n",
    "pl.show()\n",
    "pl.xlabel(irisData.feature_names[x])\n",
    "pl.ylabel(irisData.feature_names[y])\n",
    "pl.scatter(X[:, x], X[:, y], c = Y)\n",
    "pl.show()"
   ]
  },
  {
   "cell_type": "code",
   "execution_count": 4,
   "id": "2cef9a42",
   "metadata": {},
   "outputs": [
    {
     "name": "stdout",
     "output_type": "stream",
     "text": [
      "Help on function scatter in module matplotlib.pyplot:\n",
      "\n",
      "scatter(x, y, s=None, c=None, marker=None, cmap=None, norm=None, vmin=None, vmax=None, alpha=None, linewidths=None, *, edgecolors=None, plotnonfinite=False, data=None, **kwargs)\n",
      "    A scatter plot of *y* vs. *x* with varying marker size and/or color.\n",
      "    \n",
      "    Parameters\n",
      "    ----------\n",
      "    x, y : float or array-like, shape (n, )\n",
      "        The data positions.\n",
      "    \n",
      "    s : float or array-like, shape (n, ), optional\n",
      "        The marker size in points**2.\n",
      "        Default is ``rcParams['lines.markersize'] ** 2``.\n",
      "    \n",
      "    c : array-like or list of colors or color, optional\n",
      "        The marker colors. Possible values:\n",
      "    \n",
      "        - A scalar or sequence of n numbers to be mapped to colors using\n",
      "          *cmap* and *norm*.\n",
      "        - A 2D array in which the rows are RGB or RGBA.\n",
      "        - A sequence of colors of length n.\n",
      "        - A single color format string.\n",
      "    \n",
      "        Note that *c* should not be a single numeric RGB or RGBA sequence\n",
      "        because that is indistinguishable from an array of values to be\n",
      "        colormapped. If you want to specify the same RGB or RGBA value for\n",
      "        all points, use a 2D array with a single row.  Otherwise, value-\n",
      "        matching will have precedence in case of a size matching with *x*\n",
      "        and *y*.\n",
      "    \n",
      "        If you wish to specify a single color for all points\n",
      "        prefer the *color* keyword argument.\n",
      "    \n",
      "        Defaults to `None`. In that case the marker color is determined\n",
      "        by the value of *color*, *facecolor* or *facecolors*. In case\n",
      "        those are not specified or `None`, the marker color is determined\n",
      "        by the next color of the ``Axes``' current \"shape and fill\" color\n",
      "        cycle. This cycle defaults to :rc:`axes.prop_cycle`.\n",
      "    \n",
      "    marker : `~.markers.MarkerStyle`, default: :rc:`scatter.marker`\n",
      "        The marker style. *marker* can be either an instance of the class\n",
      "        or the text shorthand for a particular marker.\n",
      "        See :mod:`matplotlib.markers` for more information about marker\n",
      "        styles.\n",
      "    \n",
      "    cmap : str or `~matplotlib.colors.Colormap`, default: :rc:`image.cmap`\n",
      "        A `.Colormap` instance or registered colormap name. *cmap* is only\n",
      "        used if *c* is an array of floats.\n",
      "    \n",
      "    norm : `~matplotlib.colors.Normalize`, default: None\n",
      "        If *c* is an array of floats, *norm* is used to scale the color\n",
      "        data, *c*, in the range 0 to 1, in order to map into the colormap\n",
      "        *cmap*.\n",
      "        If *None*, use the default `.colors.Normalize`.\n",
      "    \n",
      "    vmin, vmax : float, default: None\n",
      "        *vmin* and *vmax* are used in conjunction with the default norm to\n",
      "        map the color array *c* to the colormap *cmap*. If None, the\n",
      "        respective min and max of the color array is used.\n",
      "        It is deprecated to use *vmin*/*vmax* when *norm* is given.\n",
      "    \n",
      "    alpha : float, default: None\n",
      "        The alpha blending value, between 0 (transparent) and 1 (opaque).\n",
      "    \n",
      "    linewidths : float or array-like, default: :rc:`lines.linewidth`\n",
      "        The linewidth of the marker edges. Note: The default *edgecolors*\n",
      "        is 'face'. You may want to change this as well.\n",
      "    \n",
      "    edgecolors : {'face', 'none', *None*} or color or sequence of color, default: :rc:`scatter.edgecolors`\n",
      "        The edge color of the marker. Possible values:\n",
      "    \n",
      "        - 'face': The edge color will always be the same as the face color.\n",
      "        - 'none': No patch boundary will be drawn.\n",
      "        - A color or sequence of colors.\n",
      "    \n",
      "        For non-filled markers, *edgecolors* is ignored. Instead, the color\n",
      "        is determined like with 'face', i.e. from *c*, *colors*, or\n",
      "        *facecolors*.\n",
      "    \n",
      "    plotnonfinite : bool, default: False\n",
      "        Whether to plot points with nonfinite *c* (i.e. ``inf``, ``-inf``\n",
      "        or ``nan``). If ``True`` the points are drawn with the *bad*\n",
      "        colormap color (see `.Colormap.set_bad`).\n",
      "    \n",
      "    Returns\n",
      "    -------\n",
      "    `~matplotlib.collections.PathCollection`\n",
      "    \n",
      "    Other Parameters\n",
      "    ----------------\n",
      "    **kwargs : `~matplotlib.collections.Collection` properties\n",
      "    \n",
      "    See Also\n",
      "    --------\n",
      "    plot : To plot scatter plots when markers are identical in size and\n",
      "        color.\n",
      "    \n",
      "    Notes\n",
      "    -----\n",
      "    * The `.plot` function will be faster for scatterplots where markers\n",
      "      don't vary in size or color.\n",
      "    \n",
      "    * Any or all of *x*, *y*, *s*, and *c* may be masked arrays, in which\n",
      "      case all masks will be combined and only unmasked points will be\n",
      "      plotted.\n",
      "    \n",
      "    * Fundamentally, scatter works with 1D arrays; *x*, *y*, *s*, and *c*\n",
      "      may be input as N-D arrays, but within scatter they will be\n",
      "      flattened. The exception is *c*, which will be flattened only if its\n",
      "      size matches the size of *x* and *y*.\n",
      "    \n",
      "    .. note::\n",
      "        In addition to the above described arguments, this function can take\n",
      "        a *data* keyword argument. If such a *data* argument is given,\n",
      "        the following arguments can also be string ``s``, which is\n",
      "        interpreted as ``data[s]`` (unless this raises an exception):\n",
      "        *x*, *y*, *s*, *linewidths*, *edgecolors*, *c*, *facecolor*, *facecolors*, *color*.\n",
      "    \n",
      "        Objects passed as **data** must support item access (``data[s]``) and\n",
      "        membership test (``s in data``).\n",
      "\n"
     ]
    }
   ],
   "source": [
    "help(pl.scatter)"
   ]
  },
  {
   "cell_type": "code",
   "execution_count": 14,
   "id": "ba3e98ed",
   "metadata": {},
   "outputs": [
    {
     "data": {
      "image/png": "[encoded data removed]",
      "text/plain": [
       "<Figure size 432x288 with 1 Axes>"
      ]
     },
     "metadata": {
      "needs_background": "light"
     },
     "output_type": "display_data"
    }
   ],
   "source": [
    "import pylab as pl\n",
    "X = irisData.data\n",
    "Y = irisData.target\n",
    "\n",
    "x = 0\n",
    "y = 1\n",
    "Y == 0 # Si Y[i] == 0 on met \"true\" sinon \"false\"\n",
    "X[Y==0] # Prendre les valeur correspondantes au \"true\"\n",
    "X[Y==0][:, x] # Prendre toutes les lignes la premiere colonne \n",
    "pl.scatter(X[Y==0][:, x],X[Y==0][:,y], color=\"red\",label=irisData.target_names[0])\n",
    "pl.scatter(X[Y==1][:, x],X[Y==1][:, y], color=\"green\",label=irisData.target_names[1])\n",
    "pl.scatter(X[Y==2][:, x],X[Y==2][:, y], color=\"blue\",label=irisData.target_names[2])\n",
    "pl.legend()\n",
    "pl.show()"
   ]
  },
  {
   "cell_type": "code",
   "execution_count": 49,
   "id": "0a3a1396",
   "metadata": {},
   "outputs": [
    {
     "data": {
      "image/png": "[encoded data removed]",
      "text/plain": [
       "<Figure size 432x288 with 1 Axes>"
      ]
     },
     "metadata": {
      "needs_background": "light"
     },
     "output_type": "display_data"
    }
   ],
   "source": [
    "from sklearn.datasets import load_iris\n",
    "irisData=load_iris()\n",
    "X=irisData.data\n",
    "Y=irisData.target\n",
    "\n",
    "x = 0\n",
    "y = 2\n",
    "\n",
    "colors=[\"red\", \"green\",\"blue\"]\n",
    "for i in range(3):\n",
    "    pl.scatter(X[Y==i][:, x],X[Y==i][:,y],color=colors[i],label=irisData.target_names[i])\n",
    "pl.legend()\n",
    "pl.xlabel(irisData.feature_names[x])\n",
    "pl.ylabel(irisData.feature_names[y])\n",
    "pl.title(u\"Donnees Iris - dimension des s´epales uniquement\")\n",
    "pl.show()"
   ]
  },
  {
   "cell_type": "code",
   "execution_count": 45,
   "id": "3eec1eb3",
   "metadata": {},
   "outputs": [
    {
     "data": {
      "image/png": "[encoded data removed]",
      "text/plain": [
       "<Figure size 432x288 with 1 Axes>"
      ]
     },
     "metadata": {
      "needs_background": "light"
     },
     "output_type": "display_data"
    }
   ],
   "source": [
    "from sklearn.datasets import load_iris\n",
    "irisData=load_iris()\n",
    "X=irisData.data\n",
    "Y=irisData.target\n",
    "\n",
    "x = 2\n",
    "y = 3\n",
    "\n",
    "colors=[\"red\", \"green\",\"blue\"]\n",
    "for i in range(3):\n",
    "    pl.scatter(X[Y==i][:, x],X[Y==i][:,y],color=colors[i],label=irisData.target_names[i])\n",
    "pl.legend()\n",
    "pl.xlabel(irisData.feature_names[x])\n",
    "pl.ylabel(irisData.feature_names[y])\n",
    "pl.title(u\"Donnees Iris - dimension des s´epales uniquement\")\n",
    "pl.show()"
   ]
  },
  {
   "cell_type": "code",
   "execution_count": 57,
   "id": "26cc9052",
   "metadata": {},
   "outputs": [
    {
     "data": {
      "image/png": "[encoded data removed]",
      "text/plain": [
       "<Figure size 432x288 with 1 Axes>"
      ]
     },
     "metadata": {
      "needs_background": "light"
     },
     "output_type": "display_data"
    }
   ],
   "source": [
    "from sklearn.datasets import load_iris\n",
    "irisData=load_iris()\n",
    "X=irisData.data\n",
    "Y=irisData.target\n",
    "\n",
    "x = 1\n",
    "y = 3\n",
    "\n",
    "colors=[\"red\", \"green\",\"blue\"]\n",
    "for i in range(3):\n",
    "    pl.scatter(X[Y==i][:, x],X[Y==i][:,y],color=colors[i],label=irisData.target_names[i])\n",
    "pl.legend()\n",
    "pl.xlabel(irisData.feature_names[x])\n",
    "pl.ylabel(irisData.feature_names[y])\n",
    "pl.title(u\"Donnees Iris - dimension des s´epales uniquement\")\n",
    "pl.show()"
   ]
  },
  {
   "cell_type": "code",
   "execution_count": 38,
   "id": "5150ff83",
   "metadata": {},
   "outputs": [
    {
     "name": "stdout",
     "output_type": "stream",
     "text": [
      "[0]\n",
      "['setosa']\n",
      "[[1. 0. 0.]]\n",
      "0.9866666666666667\n",
      "[[6.  2.7 5.1 1.6]\n",
      " [4.9 2.5 4.5 1.7]]\n"
     ]
    }
   ],
   "source": [
    "from sklearn import neighbors\n",
    "from sklearn.datasets import load_iris\n",
    "irisData = load_iris()\n",
    "\n",
    "# help(neighbors.KNeighborsClassifier)\n",
    "\n",
    "nb_voisins = 15\n",
    "clf = neighbors.KNeighborsClassifier(nb_voisins)\n",
    "\n",
    "# help(clf.fit) # Fit the nearest neighbors estimator from the training dataset.\n",
    "# help(clf.predict) # Predict the class labels for the provided data.\n",
    "# help(clf.predict_proba) # Return probability estimates for the test data X.\n",
    "# help(clf.score) # Return the mean (moyenne) accuracy on the given test data and labels.\n",
    "\n",
    "X=irisData.data # Training data.\n",
    "Y=irisData.target # Target values / Dans ce cas [0, 1, 2].\n",
    "\n",
    "clf.fit(X, Y) # Return the fitted nearest neighbors estimator.\n",
    "print(clf.predict([[ 5.4, 3.2, 1.6, 0.4]])) \n",
    "print(irisData.target_names[clf.predict([[ 5.4, 3.2, 1.6, 0.4]])])\n",
    "print(clf.predict_proba([[ 5.4, 3.2, 1.6, 0.4]])) # Probabilité d'appartenance (à 0, 1, 2) \n",
    "print(clf.score(X,Y)) # To get performance\n",
    "Z = clf.predict(X)\n",
    "\n",
    "print(X[Z!=Y]) # Les x qui ne sont pas reconnue par le model apres entrainement\n"
   ]
  },
  {
   "cell_type": "raw",
   "id": "1cd63b52",
   "metadata": {},
   "source": [
    "https://machinelearningmastery.com/k-fold-cross-validation/#:~:text=Cross%2Dvalidation%20is%20a%20resampling,is%20to%20be%20split%20into.\n",
    "\n",
    "Lorsque le score du classifieur appris est ´evalu´e sur l’ensemble d’apprentissage, il est en g´en´eral\n",
    "sur-estim´e (pourquoi ?) et donc, tr`es peu fiable. La meilleure m´ethode pour ´evaluer un classifieur\n",
    "consiste `a calculer son score sur un ´echantillon test, ind´ependant de l’´echantillon d’apprentissage\n",
    "mais g´en´er´e dans les mˆemes conditions. Lorsqu’on dispose d’un seul ensemble d’exemples, il faut\n",
    "donc\n",
    "— r´epartir les donn´ees en un sous-ensemble d’apprentissage et un sous-ensemble test,\n",
    "— entrainer un classifieur sur l’ensemble d’apprentissage et l’´evaluer sur l’ensemble test,\n",
    "— puis proposer un classifieur entrain´e sur l’ensemble des donn´ees."
   ]
  },
  {
   "cell_type": "code",
   "execution_count": 57,
   "id": "ec704df9",
   "metadata": {
    "scrolled": true
   },
   "outputs": [
    {
     "name": "stdout",
     "output_type": "stream",
     "text": [
      "105\n",
      "45\n",
      "37\n",
      "29\n",
      "39\n"
     ]
    }
   ],
   "source": [
    "from sklearn.model_selection import train_test_split\n",
    "import random # pour pouvoir utiliser un g´en´erateur de nombres al´eatoires\n",
    "X_train, X_test, Y_train, Y_test= train_test_split(X, Y, test_size=0.3, random_state=random.seed() )\n",
    "# help(train_test_split)\n",
    "print(len(X_train))\n",
    "print(len(X_test))\n",
    "print(len(X_train[Y_train == 0]))\n",
    "print(len(X_train[Y_train == 1]))\n",
    "print(len(X_train[Y_train == 2]))"
   ]
  },
  {
   "cell_type": "code",
   "execution_count": 147,
   "id": "2c4f6bbe",
   "metadata": {},
   "outputs": [
    {
     "name": "stdout",
     "output_type": "stream",
     "text": [
      "0.9809069212410502\n"
     ]
    }
   ],
   "source": [
    "from sklearn.model_selection import train_test_split\n",
    "import random # pour pouvoir utiliser un g´en´erateur de nombres al´eatoires\n",
    "X_train, X_test, Y_train, Y_test= train_test_split(X, Y, test_size=0.3, random_state=random.seed() )\n",
    "\n",
    "clf_2 = neighbors.KNeighborsClassifier(nb_voisins)\n",
    "clf_2.fit(X_train, Y_train)\n",
    "print(clf_2.score(X_train,Y_train))\n"
   ]
  },
  {
   "cell_type": "code",
   "execution_count": 99,
   "id": "71f07f25",
   "metadata": {},
   "outputs": [
    {
     "name": "stdout",
     "output_type": "stream",
     "text": [
      "[0, 1, 2, 3, 4, 5, 6, 7, 8, 9, 10, 11, 12, 13, 14, 15, 16, 17, 18, 19]\n",
      "app :  [ 0  1  2  3  4  5  6  7  9 10 12 13 14 15 16 17 18 19]  test  [ 8 11]\n",
      "app :  [ 1  2  3  5  6  7  8  9 10 11 12 13 14 15 16 17 18 19]  test  [0 4]\n",
      "app :  [ 0  1  2  3  4  5  6  7  8  9 10 11 13 14 15 16 17 19]  test  [12 18]\n",
      "app :  [ 0  1  2  3  4  5  6  7  8  9 10 11 12 13 14 17 18 19]  test  [15 16]\n",
      "app :  [ 0  1  2  4  5  6  7  8 10 11 12 13 14 15 16 17 18 19]  test  [3 9]\n",
      "app :  [ 0  1  2  3  4  5  6  7  8  9 10 11 12 13 14 15 16 18]  test  [17 19]\n",
      "app :  [ 0  2  3  4  5  6  8  9 10 11 12 13 14 15 16 17 18 19]  test  [1 7]\n",
      "app :  [ 0  1  2  3  4  5  7  8  9 11 12 13 14 15 16 17 18 19]  test  [ 6 10]\n",
      "app :  [ 0  1  3  4  6  7  8  9 10 11 12 13 14 15 16 17 18 19]  test  [2 5]\n",
      "app :  [ 0  1  2  3  4  5  6  7  8  9 10 11 12 15 16 17 18 19]  test  [13 14]\n"
     ]
    }
   ],
   "source": [
    "from sklearn.model_selection import KFold\n",
    "# KFold r´epartit un ensemble de donn´ees X en n folds couples d’ensembles d’apprentissage et de test.\n",
    "kf = KFold(n_splits = 10, shuffle=True)\n",
    "X = [i for i in range(20)] # [0, 1, 2, 3, 4, 5, 6, 7, 8, 9, 10, 11, 12, 13, 14, 15, 16, 17, 18, 19]\n",
    "\n",
    "print(X)\n",
    "for learn, test in kf.split(X): # splite Generate indices to split data into training and test set.\n",
    "    print(\"app : \", learn, \" test \", test)"
   ]
  },
  {
   "cell_type": "code",
   "execution_count": 71,
   "id": "9c1d77f7",
   "metadata": {},
   "outputs": [
    {
     "name": "stdout",
     "output_type": "stream",
     "text": [
      "Help on class KFold in module sklearn.model_selection._split:\n",
      "\n",
      "class KFold(_BaseKFold)\n",
      " |  KFold(n_splits=5, *, shuffle=False, random_state=None)\n",
      " |  \n",
      " |  K-Folds cross-validator\n",
      " |  \n",
      " |  Provides train/test indices to split data in train/test sets. Split\n",
      " |  dataset into k consecutive folds (without shuffling by default).\n",
      " |  \n",
      " |  Each fold is then used once as a validation while the k - 1 remaining\n",
      " |  folds form the training set.\n",
      " |  \n",
      " |  Read more in the :ref:`User Guide <k_fold>`.\n",
      " |  \n",
      " |  Parameters\n",
      " |  ----------\n",
      " |  n_splits : int, default=5\n",
      " |      Number of folds. Must be at least 2.\n",
      " |  \n",
      " |      .. versionchanged:: 0.22\n",
      " |          ``n_splits`` default value changed from 3 to 5.\n",
      " |  \n",
      " |  shuffle : bool, default=False\n",
      " |      Whether to shuffle the data before splitting into batches.\n",
      " |      Note that the samples within each split will not be shuffled.\n",
      " |  \n",
      " |  random_state : int, RandomState instance or None, default=None\n",
      " |      When `shuffle` is True, `random_state` affects the ordering of the\n",
      " |      indices, which controls the randomness of each fold. Otherwise, this\n",
      " |      parameter has no effect.\n",
      " |      Pass an int for reproducible output across multiple function calls.\n",
      " |      See :term:`Glossary <random_state>`.\n",
      " |  \n",
      " |  Examples\n",
      " |  --------\n",
      " |  >>> import numpy as np\n",
      " |  >>> from sklearn.model_selection import KFold\n",
      " |  >>> X = np.array([[1, 2], [3, 4], [1, 2], [3, 4]])\n",
      " |  >>> y = np.array([1, 2, 3, 4])\n",
      " |  >>> kf = KFold(n_splits=2)\n",
      " |  >>> kf.get_n_splits(X)\n",
      " |  2\n",
      " |  >>> print(kf)\n",
      " |  KFold(n_splits=2, random_state=None, shuffle=False)\n",
      " |  >>> for train_index, test_index in kf.split(X):\n",
      " |  ...     print(\"TRAIN:\", train_index, \"TEST:\", test_index)\n",
      " |  ...     X_train, X_test = X[train_index], X[test_index]\n",
      " |  ...     y_train, y_test = y[train_index], y[test_index]\n",
      " |  TRAIN: [2 3] TEST: [0 1]\n",
      " |  TRAIN: [0 1] TEST: [2 3]\n",
      " |  \n",
      " |  Notes\n",
      " |  -----\n",
      " |  The first ``n_samples % n_splits`` folds have size\n",
      " |  ``n_samples // n_splits + 1``, other folds have size\n",
      " |  ``n_samples // n_splits``, where ``n_samples`` is the number of samples.\n",
      " |  \n",
      " |  Randomized CV splitters may return different results for each call of\n",
      " |  split. You can make the results identical by setting `random_state`\n",
      " |  to an integer.\n",
      " |  \n",
      " |  See Also\n",
      " |  --------\n",
      " |  StratifiedKFold : Takes group information into account to avoid building\n",
      " |      folds with imbalanced class distributions (for binary or multiclass\n",
      " |      classification tasks).\n",
      " |  \n",
      " |  GroupKFold : K-fold iterator variant with non-overlapping groups.\n",
      " |  \n",
      " |  RepeatedKFold : Repeats K-Fold n times.\n",
      " |  \n",
      " |  Method resolution order:\n",
      " |      KFold\n",
      " |      _BaseKFold\n",
      " |      BaseCrossValidator\n",
      " |      builtins.object\n",
      " |  \n",
      " |  Methods defined here:\n",
      " |  \n",
      " |  __init__(self, n_splits=5, *, shuffle=False, random_state=None)\n",
      " |      Initialize self.  See help(type(self)) for accurate signature.\n",
      " |  \n",
      " |  ----------------------------------------------------------------------\n",
      " |  Data and other attributes defined here:\n",
      " |  \n",
      " |  __abstractmethods__ = frozenset()\n",
      " |  \n",
      " |  ----------------------------------------------------------------------\n",
      " |  Methods inherited from _BaseKFold:\n",
      " |  \n",
      " |  get_n_splits(self, X=None, y=None, groups=None)\n",
      " |      Returns the number of splitting iterations in the cross-validator\n",
      " |      \n",
      " |      Parameters\n",
      " |      ----------\n",
      " |      X : object\n",
      " |          Always ignored, exists for compatibility.\n",
      " |      \n",
      " |      y : object\n",
      " |          Always ignored, exists for compatibility.\n",
      " |      \n",
      " |      groups : object\n",
      " |          Always ignored, exists for compatibility.\n",
      " |      \n",
      " |      Returns\n",
      " |      -------\n",
      " |      n_splits : int\n",
      " |          Returns the number of splitting iterations in the cross-validator.\n",
      " |  \n",
      " |  split(self, X, y=None, groups=None)\n",
      " |      Generate indices to split data into training and test set.\n",
      " |      \n",
      " |      Parameters\n",
      " |      ----------\n",
      " |      X : array-like of shape (n_samples, n_features)\n",
      " |          Training data, where n_samples is the number of samples\n",
      " |          and n_features is the number of features.\n",
      " |      \n",
      " |      y : array-like of shape (n_samples,), default=None\n",
      " |          The target variable for supervised learning problems.\n",
      " |      \n",
      " |      groups : array-like of shape (n_samples,), default=None\n",
      " |          Group labels for the samples used while splitting the dataset into\n",
      " |          train/test set.\n",
      " |      \n",
      " |      Yields\n",
      " |      ------\n",
      " |      train : ndarray\n",
      " |          The training set indices for that split.\n",
      " |      \n",
      " |      test : ndarray\n",
      " |          The testing set indices for that split.\n",
      " |  \n",
      " |  ----------------------------------------------------------------------\n",
      " |  Methods inherited from BaseCrossValidator:\n",
      " |  \n",
      " |  __repr__(self)\n",
      " |      Return repr(self).\n",
      " |  \n",
      " |  ----------------------------------------------------------------------\n",
      " |  Data descriptors inherited from BaseCrossValidator:\n",
      " |  \n",
      " |  __dict__\n",
      " |      dictionary for instance variables (if defined)\n",
      " |  \n",
      " |  __weakref__\n",
      " |      list of weak references to the object (if defined)\n",
      "\n",
      "Help on method split in module sklearn.model_selection._split:\n",
      "\n",
      "split(X, y=None, groups=None) method of sklearn.model_selection._split.KFold instance\n",
      "    Generate indices to split data into training and test set.\n",
      "    \n",
      "    Parameters\n",
      "    ----------\n",
      "    X : array-like of shape (n_samples, n_features)\n",
      "        Training data, where n_samples is the number of samples\n",
      "        and n_features is the number of features.\n",
      "    \n",
      "    y : array-like of shape (n_samples,), default=None\n",
      "        The target variable for supervised learning problems.\n",
      "    \n",
      "    groups : array-like of shape (n_samples,), default=None\n",
      "        Group labels for the samples used while splitting the dataset into\n",
      "        train/test set.\n",
      "    \n",
      "    Yields\n",
      "    ------\n",
      "    train : ndarray\n",
      "        The training set indices for that split.\n",
      "    \n",
      "    test : ndarray\n",
      "        The testing set indices for that split.\n",
      "\n"
     ]
    }
   ],
   "source": [
    "help(KFold)\n",
    "help(kf.split)"
   ]
  },
  {
   "cell_type": "code",
   "execution_count": 103,
   "id": "d8f75dfc",
   "metadata": {},
   "outputs": [
    {
     "name": "stdout",
     "output_type": "stream",
     "text": [
      "[0, 1, 2, 3, 4, 5, 6, 7, 8, 9, 10, 11, 12, 13, 14, 15, 16, 17, 18, 19]\n",
      "app :  [ 2  3  4  5  6  7  8  9 10 11 12 13 14 15 16 17 18 19]  test  [0 1]\n",
      "app :  [ 0  1  4  5  6  7  8  9 10 11 12 13 14 15 16 17 18 19]  test  [2 3]\n",
      "app :  [ 0  1  2  3  6  7  8  9 10 11 12 13 14 15 16 17 18 19]  test  [4 5]\n",
      "app :  [ 0  1  2  3  4  5  8  9 10 11 12 13 14 15 16 17 18 19]  test  [6 7]\n",
      "app :  [ 0  1  2  3  4  5  6  7 10 11 12 13 14 15 16 17 18 19]  test  [8 9]\n",
      "app :  [ 0  1  2  3  4  5  6  7  8  9 12 13 14 15 16 17 18 19]  test  [10 11]\n",
      "app :  [ 0  1  2  3  4  5  6  7  8  9 10 11 14 15 16 17 18 19]  test  [12 13]\n",
      "app :  [ 0  1  2  3  4  5  6  7  8  9 10 11 12 13 16 17 18 19]  test  [14 15]\n",
      "app :  [ 0  1  2  3  4  5  6  7  8  9 10 11 12 13 14 15 18 19]  test  [16 17]\n",
      "app :  [ 0  1  2  3  4  5  6  7  8  9 10 11 12 13 14 15 16 17]  test  [18 19]\n"
     ]
    }
   ],
   "source": [
    "from sklearn.model_selection import KFold\n",
    "\n",
    "kf = KFold(n_splits = 10, shuffle = False) # %10\n",
    "X = [i for i in range(20)]\n",
    "print(X)\n",
    "for learn,test in kf.split(X):\n",
    "    print(\"app : \",learn,\" test \",test)"
   ]
  },
  {
   "cell_type": "code",
   "execution_count": 107,
   "id": "2242e8a6",
   "metadata": {},
   "outputs": [
    {
     "name": "stdout",
     "output_type": "stream",
     "text": [
      "['9.60', '9.40', '9.60', '9.67', '9.60', '9.53', '9.73', '9.67', '9.60', '9.73', '9.67', '9.80', '9.67', '9.67', '9.80', '9.67', '9.73', '9.80', '9.80', '9.67', '9.60', '9.67', '9.53', '9.40', '9.53', '9.40', '9.47', '9.40', '9.53']\n",
      "meilleure valeur pour k :  12\n"
     ]
    }
   ],
   "source": [
    "# -*- coding: utf-8 -*-\n",
    "import random\n",
    "from sklearn.datasets import load_iris\n",
    "\n",
    "irisData = load_iris()\n",
    "\n",
    "X = irisData.data\n",
    "Y = irisData.target\n",
    "\n",
    "from sklearn import neighbors\n",
    "from sklearn.model_selection import KFold\n",
    "\n",
    "kf = KFold(n_splits = 10, shuffle = True) # 10% de 150 cad on test 15 element par un entrainenement de 135\n",
    "scores = []\n",
    "\n",
    "for k in range(1,30): # de k = 1 à 29\n",
    "    score = 0\n",
    "    clf = neighbors.KNeighborsClassifier(k) # On test le classifier pour les k voisins\n",
    "    for learn, test in kf.split(X):\n",
    "        # print(len(learn))\n",
    "        # print(\"app : \",learn,\" test \",test)\n",
    "        X_train = X[learn]\n",
    "        Y_train = Y[learn]\n",
    "        clf.fit(X_train, Y_train) # Entrainement du model\n",
    "        X_test = X[test]\n",
    "        Y_test = Y[test]\n",
    "        score = score + clf.score(X_test,Y_test) # score pour un ensemble d'entrainement\n",
    "    scores.append(score)\n",
    "    # Le k (le nbr de voisin) le plus optimal a prendre est celui de performance plus grande \n",
    "print([\"{:4.2f}\".format(s) for s in scores])\n",
    "print(\"meilleure valeur pour k : \",scores.index(max(scores))+1)"
   ]
  },
  {
   "cell_type": "code",
   "execution_count": 110,
   "id": "34b14925",
   "metadata": {},
   "outputs": [
    {
     "name": "stdout",
     "output_type": "stream",
     "text": [
      "['0.00', '0.00', '0.00', '0.00', '0.00', '0.00', '0.00', '0.00', '0.00', '0.00', '0.00', '0.00', '0.00', '0.00', '0.00', '0.00', '0.00', '0.00', '0.00', '0.00', '0.00', '0.00', '0.00', '0.00', '0.00', '0.00', '0.00', '0.00', '0.00']\n",
      "meilleure valeur pour k :  1\n"
     ]
    }
   ],
   "source": [
    "# -*- coding: utf-8 -*-\n",
    "import random\n",
    "from sklearn.datasets import load_iris\n",
    "\n",
    "irisData = load_iris()\n",
    "\n",
    "X = irisData.data\n",
    "Y = irisData.target\n",
    "\n",
    "from sklearn import neighbors\n",
    "from sklearn.model_selection import KFold\n",
    "\n",
    "kf = KFold(n_splits=3, shuffle = False)\n",
    "scores = []\n",
    "\n",
    "for k in range(1,30): # de k = 1 à 29\n",
    "    score = 0\n",
    "    clf = neighbors.KNeighborsClassifier(k) # On test le classifier pour les k voisins\n",
    "    for learn,test in kf.split(X):\n",
    "        # print(\"app : \",learn,\" test \",test)\n",
    "        X_train = X[learn]\n",
    "        Y_train = Y[learn]\n",
    "        clf.fit(X_train, Y_train)\n",
    "        X_test = X[test]\n",
    "        Y_test = Y[test]\n",
    "        score = score + clf.score(X_test,Y_test)\n",
    "    scores.append(score)\n",
    "# En effet, on essaye de tester un certain type de fleur sur un autre type et lorsque on fait le test il n y a pas de resemblance\n",
    "# Example : Le programme aprend les 100 premieres fleurs (cad type 0 et 1) et le test sur les 50 dernieres (cad type 2)\n",
    "print([\"{:4.2f}\".format(s) for s in scores])\n",
    "print(\"meilleure valeur pour k : \",scores.index(max(scores))+1)"
   ]
  },
  {
   "cell_type": "code",
   "execution_count": 120,
   "id": "1616ca34",
   "metadata": {},
   "outputs": [
    {
     "name": "stdout",
     "output_type": "stream",
     "text": [
      "[ 0.  0.  5. 13.  9.  1.  0.  0.  0.  0. 13. 15. 10. 15.  5.  0.  0.  3.\n",
      " 15.  2.  0. 11.  8.  0.  0.  4. 12.  0.  0.  8.  8.  0.  0.  5.  8.  0.\n",
      "  0.  9.  8.  0.  0.  4. 11.  0.  1. 12.  7.  0.  0.  2. 14.  5. 10. 12.\n",
      "  0.  0.  0.  0.  6. 13. 10.  0.  0.  0.]\n",
      "64\n",
      "[[ 0.  0.  5. 13.  9.  1.  0.  0.]\n",
      " [ 0.  0. 13. 15. 10. 15.  5.  0.]\n",
      " [ 0.  3. 15.  2.  0. 11.  8.  0.]\n",
      " [ 0.  4. 12.  0.  0.  8.  8.  0.]\n",
      " [ 0.  5.  8.  0.  0.  9.  8.  0.]\n",
      " [ 0.  4. 11.  0.  1. 12.  7.  0.]\n",
      " [ 0.  2. 14.  5. 10. 12.  0.  0.]\n",
      " [ 0.  0.  6. 13. 10.  0.  0.  0.]]\n",
      "8\n",
      "[[ 0.  0.  5. 13.  9.  1.  0.  0.]\n",
      " [ 0.  0. 13. 15. 10. 15.  5.  0.]\n",
      " [ 0.  3. 15.  2.  0. 11.  8.  0.]\n",
      " [ 0.  4. 12.  0.  0.  8.  8.  0.]\n",
      " [ 0.  5.  8.  0.  0.  9.  8.  0.]\n",
      " [ 0.  4. 11.  0.  1. 12.  7.  0.]\n",
      " [ 0.  2. 14.  5. 10. 12.  0.  0.]\n",
      " [ 0.  0.  6. 13. 10.  0.  0.  0.]]\n",
      "0\n"
     ]
    },
    {
     "data": {
      "text/plain": [
       "numpy.int64"
      ]
     },
     "execution_count": 120,
     "metadata": {},
     "output_type": "execute_result"
    }
   ],
   "source": [
    "from sklearn.datasets import load_digits\n",
    "digits = load_digits()\n",
    "# Le champ image est un tableau 8 × 8 d’entiers representant des niveaux de gris et variant de (blanc) a 16 (noir).\n",
    "print(digits.data[0])\n",
    "print(len(digits.data[0]))\n",
    "\n",
    "print(digits.images[0]) # 1\n",
    "print(len(digits.images[0]))\n",
    "print(digits.data[0].reshape(8,8)) # 2\n",
    "# 1 et 2 sont les memes\n",
    "\n",
    "print(digits.target[0]) # Le champ target est un chiffre compris entre 0 et 9.\n",
    "type(digits.target[0])"
   ]
  },
  {
   "cell_type": "code",
   "execution_count": 146,
   "id": "5170b746",
   "metadata": {},
   "outputs": [
    {
     "data": {
      "text/plain": [
       "<Figure size 432x288 with 0 Axes>"
      ]
     },
     "metadata": {},
     "output_type": "display_data"
    },
    {
     "data": {
      "image/png": "[encoded data removed]",
      "text/plain": [
       "<Figure size 288x288 with 1 Axes>"
      ]
     },
     "metadata": {
      "needs_background": "light"
     },
     "output_type": "display_data"
    }
   ],
   "source": [
    "import pylab as pl\n",
    "\n",
    "pl.gray()\n",
    "pl.matshow(digits.images[1795])\n",
    "pl.show()\n",
    "# print(len(digits.images)) # 1797"
   ]
  },
  {
   "cell_type": "code",
   "execution_count": 143,
   "id": "d847018f",
   "metadata": {},
   "outputs": [
    {
     "name": "stdout",
     "output_type": "stream",
     "text": [
      "Help on function gray in module matplotlib.pyplot:\n",
      "\n",
      "gray()\n",
      "    Set the colormap to 'gray'.\n",
      "    \n",
      "    This changes the default colormap as well as the colormap of the current\n",
      "    image if there is one. See ``help(colormaps)`` for more information.\n",
      "\n"
     ]
    }
   ],
   "source": [
    "help(pl.gray)"
   ]
  },
  {
   "cell_type": "code",
   "execution_count": null,
   "id": "cae96582",
   "metadata": {},
   "outputs": [],
   "source": []
  }
 ],
 "metadata": {
  "kernelspec": {
   "display_name": "Python 3 (ipykernel)",
   "language": "python",
   "name": "python3"
  },
  "language_info": {
   "codemirror_mode": {
    "name": "ipython",
    "version": 3
   },
   "file_extension": ".py",
   "mimetype": "text/x-python",
   "name": "python",
   "nbconvert_exporter": "python",
   "pygments_lexer": "ipython3",
   "version": "3.9.7"
  }
 },
 "nbformat": 4,
 "nbformat_minor": 5
}
